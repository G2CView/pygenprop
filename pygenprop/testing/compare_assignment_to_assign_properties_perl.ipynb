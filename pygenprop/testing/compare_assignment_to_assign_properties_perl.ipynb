{
 "cells": [
  {
   "cell_type": "code",
   "execution_count": 1,
   "metadata": {},
   "outputs": [],
   "source": [
    "from pygenprop.database_file_parser import parse_genome_property_file\n",
    "from pygenprop.results import GenomePropertiesResults\n",
    "from pygenprop.assignment_file_parser import parse_genome_property_longform_file, parse_interproscan_file\n",
    "import pandas as pd"
   ]
  },
  {
   "cell_type": "code",
   "execution_count": 2,
   "metadata": {},
   "outputs": [],
   "source": [
    "def generate_differential_assignments(*results):\n",
    "    comparison = pd.concat(results, axis=1, sort=False)\n",
    "    comparison_transposed = comparison.transpose()\n",
    "    differential_assignments = comparison_transposed[[col for col in comparison_transposed if not comparison_transposed[col].nunique()==1]].transpose()\n",
    "    return differential_assignments"
   ]
  },
  {
   "cell_type": "code",
   "execution_count": 3,
   "metadata": {},
   "outputs": [],
   "source": [
    "with open('/Users/lee/Dropbox/RandD/Repositories/genome-properties/flatfiles/genomeProperties.txt') as genome_properties_file:\n",
    "    genprop_tree = parse_genome_property_file(genome_properties_file)"
   ]
  },
  {
   "cell_type": "code",
   "execution_count": 4,
   "metadata": {},
   "outputs": [],
   "source": [
    "with open('/Users/lee/Google_Drive/Neufeld_Lab/Projects/ELA_GSB_test_data_for_Lee/Jackson_InterProScan_GenProp_Results/Updated_Fall_2018/genome_properties/C_chlorochromatii_CaD3') as assignment_file:\n",
    "    file_assignment_results = parse_genome_property_longform_file(assignment_file)\n",
    "    genome_properties_file_result = GenomePropertiesResults(file_assignment_results, genome_properties_tree=genprop_tree)"
   ]
  },
  {
   "cell_type": "code",
   "execution_count": 5,
   "metadata": {},
   "outputs": [],
   "source": [
    "with open('/Users/lee/Google_Drive/Neufeld_Lab/Projects/ELA_GSB_test_data_for_Lee/Jackson_InterProScan_GenProp_Results/Updated_Fall_2018/interproscan_results/C_chlorochromatii_CaD3.tsv') as assignment_file:\n",
    "    file_assignment_results = parse_interproscan_file(assignment_file)\n",
    "    file_assignment_results.sample_name = \"C_chlorochromatii_CaD3_InterProScan\"\n",
    "    inteproscan_file_result = GenomePropertiesResults(file_assignment_results, genome_properties_tree=genprop_tree)"
   ]
  },
  {
   "cell_type": "code",
   "execution_count": 6,
   "metadata": {},
   "outputs": [
    {
     "data": {
      "text/plain": [
       "1286"
      ]
     },
     "execution_count": 6,
     "metadata": {},
     "output_type": "execute_result"
    }
   ],
   "source": [
    "len(genprop_tree) # Number of properties in the tree."
   ]
  },
  {
   "cell_type": "code",
   "execution_count": 7,
   "metadata": {},
   "outputs": [
    {
     "data": {
      "text/plain": [
       "1286"
      ]
     },
     "execution_count": 7,
     "metadata": {},
     "output_type": "execute_result"
    }
   ],
   "source": [
    "len(genome_properties_file_result.property_results) # Number of assigned properties from genome properties assignment file."
   ]
  },
  {
   "cell_type": "code",
   "execution_count": 8,
   "metadata": {},
   "outputs": [
    {
     "data": {
      "text/plain": [
       "1286"
      ]
     },
     "execution_count": 8,
     "metadata": {},
     "output_type": "execute_result"
    }
   ],
   "source": [
    "len(inteproscan_file_result.property_results) # Number of assigned properties from InterProScan TSV file."
   ]
  },
  {
   "cell_type": "code",
   "execution_count": 9,
   "metadata": {},
   "outputs": [],
   "source": [
    "differential_property_assignments = generate_differential_assignments(genome_properties_file_result.property_results, inteproscan_file_result.property_results)"
   ]
  },
  {
   "cell_type": "code",
   "execution_count": 10,
   "metadata": {},
   "outputs": [
    {
     "data": {
      "text/plain": [
       "37"
      ]
     },
     "execution_count": 10,
     "metadata": {},
     "output_type": "execute_result"
    }
   ],
   "source": [
    "len(differential_property_assignments) # Number of differing property assignments between InterProScan file and genome properties assignment file."
   ]
  },
  {
   "cell_type": "code",
   "execution_count": 11,
   "metadata": {},
   "outputs": [],
   "source": [
    "differential_step_assignments = generate_differential_assignments(genome_properties_file_result.step_results, inteproscan_file_result.step_results)"
   ]
  },
  {
   "cell_type": "code",
   "execution_count": 12,
   "metadata": {},
   "outputs": [
    {
     "data": {
      "text/plain": [
       "87"
      ]
     },
     "execution_count": 12,
     "metadata": {},
     "output_type": "execute_result"
    }
   ],
   "source": [
    "len(differential_step_assignments) # Number of differing step assignments between InterProScan file and genome properties assignment file."
   ]
  },
  {
   "cell_type": "code",
   "execution_count": 13,
   "metadata": {},
   "outputs": [
    {
     "data": {
      "text/plain": [
       "6525"
      ]
     },
     "execution_count": 13,
     "metadata": {},
     "output_type": "execute_result"
    }
   ],
   "source": [
    "len(inteproscan_file_result.step_results) # Number of steps assigned."
   ]
  },
  {
   "cell_type": "code",
   "execution_count": 14,
   "metadata": {},
   "outputs": [],
   "source": [
    "global_leaf_genome_property_ids = {leaf.id for leaf in genprop_tree.leafs}\n",
    "differential_genome_property_leaf_ids = set(differential_property_assignments.index.tolist()).intersection(global_leaf_genome_property_ids)"
   ]
  },
  {
   "cell_type": "code",
   "execution_count": 15,
   "metadata": {},
   "outputs": [],
   "source": [
    "differential_leaf_genome_property_assignments = differential_property_assignments[differential_property_assignments.index.get_level_values(0).isin(differential_genome_property_leaf_ids)]"
   ]
  },
  {
   "cell_type": "code",
   "execution_count": 16,
   "metadata": {},
   "outputs": [
    {
     "data": {
      "text/plain": [
       "22"
      ]
     },
     "execution_count": 16,
     "metadata": {},
     "output_type": "execute_result"
    }
   ],
   "source": [
    "len(differential_leaf_genome_property_assignments) # Number of differing leaf step assignments between InterProScan file and genome properties assignment file."
   ]
  },
  {
   "cell_type": "code",
   "execution_count": 17,
   "metadata": {},
   "outputs": [],
   "source": [
    "differential_leaf_step_assignments = differential_step_assignments[differential_step_assignments.index.get_level_values(0).isin(differential_genome_property_leaf_ids)]"
   ]
  },
  {
   "cell_type": "code",
   "execution_count": 18,
   "metadata": {},
   "outputs": [
    {
     "data": {
      "text/plain": [
       "20"
      ]
     },
     "execution_count": 18,
     "metadata": {},
     "output_type": "execute_result"
    }
   ],
   "source": [
    "len(differential_leaf_step_assignments)"
   ]
  },
  {
   "cell_type": "markdown",
   "metadata": {},
   "source": [
    "### Differential steps are due to genome properties perl improperly assigning yes when to steps where their are mutiple insufficent evidences and some of these are missing.\n",
    "See: https://github.com/ebi-pf-team/genome-properties/issues/30"
   ]
  },
  {
   "cell_type": "code",
   "execution_count": 19,
   "metadata": {},
   "outputs": [
    {
     "data": {
      "text/html": [
       "<div>\n",
       "<style scoped>\n",
       "    .dataframe tbody tr th:only-of-type {\n",
       "        vertical-align: middle;\n",
       "    }\n",
       "\n",
       "    .dataframe tbody tr th {\n",
       "        vertical-align: top;\n",
       "    }\n",
       "\n",
       "    .dataframe thead th {\n",
       "        text-align: right;\n",
       "    }\n",
       "</style>\n",
       "<table border=\"1\" class=\"dataframe\">\n",
       "  <thead>\n",
       "    <tr style=\"text-align: right;\">\n",
       "      <th></th>\n",
       "      <th></th>\n",
       "      <th>C_chlorochromatii_CaD3</th>\n",
       "      <th>C_chlorochromatii_CaD3_InterProScan</th>\n",
       "    </tr>\n",
       "    <tr>\n",
       "      <th>Genome_Property_ID</th>\n",
       "      <th>Step_Number</th>\n",
       "      <th></th>\n",
       "      <th></th>\n",
       "    </tr>\n",
       "  </thead>\n",
       "  <tbody>\n",
       "    <tr>\n",
       "      <th rowspan=\"2\" valign=\"top\">GenProp0457</th>\n",
       "      <th>6</th>\n",
       "      <td>YES</td>\n",
       "      <td>NO</td>\n",
       "    </tr>\n",
       "    <tr>\n",
       "      <th>7</th>\n",
       "      <td>YES</td>\n",
       "      <td>NO</td>\n",
       "    </tr>\n",
       "    <tr>\n",
       "      <th>GenProp0458</th>\n",
       "      <th>2</th>\n",
       "      <td>YES</td>\n",
       "      <td>NO</td>\n",
       "    </tr>\n",
       "    <tr>\n",
       "      <th>GenProp0685</th>\n",
       "      <th>1</th>\n",
       "      <td>YES</td>\n",
       "      <td>NO</td>\n",
       "    </tr>\n",
       "    <tr>\n",
       "      <th>GenProp0701</th>\n",
       "      <th>1</th>\n",
       "      <td>YES</td>\n",
       "      <td>NO</td>\n",
       "    </tr>\n",
       "    <tr>\n",
       "      <th>GenProp0715</th>\n",
       "      <th>2</th>\n",
       "      <td>YES</td>\n",
       "      <td>NO</td>\n",
       "    </tr>\n",
       "    <tr>\n",
       "      <th>GenProp0724</th>\n",
       "      <th>8</th>\n",
       "      <td>YES</td>\n",
       "      <td>NO</td>\n",
       "    </tr>\n",
       "    <tr>\n",
       "      <th rowspan=\"2\" valign=\"top\">GenProp0750</th>\n",
       "      <th>1</th>\n",
       "      <td>YES</td>\n",
       "      <td>NO</td>\n",
       "    </tr>\n",
       "    <tr>\n",
       "      <th>3</th>\n",
       "      <td>YES</td>\n",
       "      <td>NO</td>\n",
       "    </tr>\n",
       "    <tr>\n",
       "      <th>GenProp0754</th>\n",
       "      <th>1</th>\n",
       "      <td>YES</td>\n",
       "      <td>NO</td>\n",
       "    </tr>\n",
       "    <tr>\n",
       "      <th>GenProp0756</th>\n",
       "      <th>1</th>\n",
       "      <td>YES</td>\n",
       "      <td>NO</td>\n",
       "    </tr>\n",
       "    <tr>\n",
       "      <th>GenProp0759</th>\n",
       "      <th>2</th>\n",
       "      <td>YES</td>\n",
       "      <td>NO</td>\n",
       "    </tr>\n",
       "    <tr>\n",
       "      <th>GenProp0839</th>\n",
       "      <th>2</th>\n",
       "      <td>YES</td>\n",
       "      <td>NO</td>\n",
       "    </tr>\n",
       "    <tr>\n",
       "      <th>GenProp0840</th>\n",
       "      <th>2</th>\n",
       "      <td>YES</td>\n",
       "      <td>NO</td>\n",
       "    </tr>\n",
       "    <tr>\n",
       "      <th>GenProp0842</th>\n",
       "      <th>3</th>\n",
       "      <td>YES</td>\n",
       "      <td>NO</td>\n",
       "    </tr>\n",
       "    <tr>\n",
       "      <th>GenProp0877</th>\n",
       "      <th>1</th>\n",
       "      <td>YES</td>\n",
       "      <td>NO</td>\n",
       "    </tr>\n",
       "    <tr>\n",
       "      <th>GenProp0917</th>\n",
       "      <th>12</th>\n",
       "      <td>YES</td>\n",
       "      <td>NO</td>\n",
       "    </tr>\n",
       "    <tr>\n",
       "      <th>GenProp0927</th>\n",
       "      <th>2</th>\n",
       "      <td>YES</td>\n",
       "      <td>NO</td>\n",
       "    </tr>\n",
       "    <tr>\n",
       "      <th>GenProp1074</th>\n",
       "      <th>2</th>\n",
       "      <td>YES</td>\n",
       "      <td>NO</td>\n",
       "    </tr>\n",
       "    <tr>\n",
       "      <th>GenProp1094</th>\n",
       "      <th>3</th>\n",
       "      <td>YES</td>\n",
       "      <td>NO</td>\n",
       "    </tr>\n",
       "  </tbody>\n",
       "</table>\n",
       "</div>"
      ],
      "text/plain": [
       "                               C_chlorochromatii_CaD3  \\\n",
       "Genome_Property_ID Step_Number                          \n",
       "GenProp0457        6                              YES   \n",
       "                   7                              YES   \n",
       "GenProp0458        2                              YES   \n",
       "GenProp0685        1                              YES   \n",
       "GenProp0701        1                              YES   \n",
       "GenProp0715        2                              YES   \n",
       "GenProp0724        8                              YES   \n",
       "GenProp0750        1                              YES   \n",
       "                   3                              YES   \n",
       "GenProp0754        1                              YES   \n",
       "GenProp0756        1                              YES   \n",
       "GenProp0759        2                              YES   \n",
       "GenProp0839        2                              YES   \n",
       "GenProp0840        2                              YES   \n",
       "GenProp0842        3                              YES   \n",
       "GenProp0877        1                              YES   \n",
       "GenProp0917        12                             YES   \n",
       "GenProp0927        2                              YES   \n",
       "GenProp1074        2                              YES   \n",
       "GenProp1094        3                              YES   \n",
       "\n",
       "                               C_chlorochromatii_CaD3_InterProScan  \n",
       "Genome_Property_ID Step_Number                                      \n",
       "GenProp0457        6                                            NO  \n",
       "                   7                                            NO  \n",
       "GenProp0458        2                                            NO  \n",
       "GenProp0685        1                                            NO  \n",
       "GenProp0701        1                                            NO  \n",
       "GenProp0715        2                                            NO  \n",
       "GenProp0724        8                                            NO  \n",
       "GenProp0750        1                                            NO  \n",
       "                   3                                            NO  \n",
       "GenProp0754        1                                            NO  \n",
       "GenProp0756        1                                            NO  \n",
       "GenProp0759        2                                            NO  \n",
       "GenProp0839        2                                            NO  \n",
       "GenProp0840        2                                            NO  \n",
       "GenProp0842        3                                            NO  \n",
       "GenProp0877        1                                            NO  \n",
       "GenProp0917        12                                           NO  \n",
       "GenProp0927        2                                            NO  \n",
       "GenProp1074        2                                            NO  \n",
       "GenProp1094        3                                            NO  "
      ]
     },
     "execution_count": 19,
     "metadata": {},
     "output_type": "execute_result"
    }
   ],
   "source": [
    "differential_leaf_step_assignments"
   ]
  },
  {
   "cell_type": "code",
   "execution_count": 20,
   "metadata": {},
   "outputs": [
    {
     "data": {
      "text/html": [
       "<div>\n",
       "<style scoped>\n",
       "    .dataframe tbody tr th:only-of-type {\n",
       "        vertical-align: middle;\n",
       "    }\n",
       "\n",
       "    .dataframe tbody tr th {\n",
       "        vertical-align: top;\n",
       "    }\n",
       "\n",
       "    .dataframe thead th {\n",
       "        text-align: right;\n",
       "    }\n",
       "</style>\n",
       "<table border=\"1\" class=\"dataframe\">\n",
       "  <thead>\n",
       "    <tr style=\"text-align: right;\">\n",
       "      <th></th>\n",
       "      <th>C_chlorochromatii_CaD3</th>\n",
       "      <th>C_chlorochromatii_CaD3_InterProScan</th>\n",
       "    </tr>\n",
       "  </thead>\n",
       "  <tbody>\n",
       "    <tr>\n",
       "      <th>GenProp0457</th>\n",
       "      <td>PARTIAL</td>\n",
       "      <td>NO</td>\n",
       "    </tr>\n",
       "    <tr>\n",
       "      <th>GenProp0458</th>\n",
       "      <td>PARTIAL</td>\n",
       "      <td>NO</td>\n",
       "    </tr>\n",
       "    <tr>\n",
       "      <th>GenProp0617</th>\n",
       "      <td>PARTIAL</td>\n",
       "      <td>NO</td>\n",
       "    </tr>\n",
       "    <tr>\n",
       "      <th>GenProp0685</th>\n",
       "      <td>PARTIAL</td>\n",
       "      <td>NO</td>\n",
       "    </tr>\n",
       "    <tr>\n",
       "      <th>GenProp0701</th>\n",
       "      <td>PARTIAL</td>\n",
       "      <td>NO</td>\n",
       "    </tr>\n",
       "    <tr>\n",
       "      <th>GenProp0715</th>\n",
       "      <td>PARTIAL</td>\n",
       "      <td>NO</td>\n",
       "    </tr>\n",
       "    <tr>\n",
       "      <th>GenProp0724</th>\n",
       "      <td>PARTIAL</td>\n",
       "      <td>NO</td>\n",
       "    </tr>\n",
       "    <tr>\n",
       "      <th>GenProp0750</th>\n",
       "      <td>YES</td>\n",
       "      <td>PARTIAL</td>\n",
       "    </tr>\n",
       "    <tr>\n",
       "      <th>GenProp0754</th>\n",
       "      <td>YES</td>\n",
       "      <td>NO</td>\n",
       "    </tr>\n",
       "    <tr>\n",
       "      <th>GenProp0756</th>\n",
       "      <td>PARTIAL</td>\n",
       "      <td>NO</td>\n",
       "    </tr>\n",
       "    <tr>\n",
       "      <th>GenProp0759</th>\n",
       "      <td>PARTIAL</td>\n",
       "      <td>NO</td>\n",
       "    </tr>\n",
       "    <tr>\n",
       "      <th>GenProp0813</th>\n",
       "      <td>PARTIAL</td>\n",
       "      <td>NO</td>\n",
       "    </tr>\n",
       "    <tr>\n",
       "      <th>GenProp0839</th>\n",
       "      <td>YES</td>\n",
       "      <td>PARTIAL</td>\n",
       "    </tr>\n",
       "    <tr>\n",
       "      <th>GenProp0840</th>\n",
       "      <td>YES</td>\n",
       "      <td>PARTIAL</td>\n",
       "    </tr>\n",
       "    <tr>\n",
       "      <th>GenProp0842</th>\n",
       "      <td>YES</td>\n",
       "      <td>PARTIAL</td>\n",
       "    </tr>\n",
       "    <tr>\n",
       "      <th>GenProp0877</th>\n",
       "      <td>YES</td>\n",
       "      <td>PARTIAL</td>\n",
       "    </tr>\n",
       "    <tr>\n",
       "      <th>GenProp0899</th>\n",
       "      <td>PARTIAL</td>\n",
       "      <td>NO</td>\n",
       "    </tr>\n",
       "    <tr>\n",
       "      <th>GenProp0917</th>\n",
       "      <td>PARTIAL</td>\n",
       "      <td>NO</td>\n",
       "    </tr>\n",
       "    <tr>\n",
       "      <th>GenProp0927</th>\n",
       "      <td>YES</td>\n",
       "      <td>PARTIAL</td>\n",
       "    </tr>\n",
       "    <tr>\n",
       "      <th>GenProp1072</th>\n",
       "      <td>PARTIAL</td>\n",
       "      <td>NO</td>\n",
       "    </tr>\n",
       "    <tr>\n",
       "      <th>GenProp1074</th>\n",
       "      <td>YES</td>\n",
       "      <td>NO</td>\n",
       "    </tr>\n",
       "    <tr>\n",
       "      <th>GenProp1094</th>\n",
       "      <td>PARTIAL</td>\n",
       "      <td>NO</td>\n",
       "    </tr>\n",
       "  </tbody>\n",
       "</table>\n",
       "</div>"
      ],
      "text/plain": [
       "            C_chlorochromatii_CaD3 C_chlorochromatii_CaD3_InterProScan\n",
       "GenProp0457                PARTIAL                                  NO\n",
       "GenProp0458                PARTIAL                                  NO\n",
       "GenProp0617                PARTIAL                                  NO\n",
       "GenProp0685                PARTIAL                                  NO\n",
       "GenProp0701                PARTIAL                                  NO\n",
       "GenProp0715                PARTIAL                                  NO\n",
       "GenProp0724                PARTIAL                                  NO\n",
       "GenProp0750                    YES                             PARTIAL\n",
       "GenProp0754                    YES                                  NO\n",
       "GenProp0756                PARTIAL                                  NO\n",
       "GenProp0759                PARTIAL                                  NO\n",
       "GenProp0813                PARTIAL                                  NO\n",
       "GenProp0839                    YES                             PARTIAL\n",
       "GenProp0840                    YES                             PARTIAL\n",
       "GenProp0842                    YES                             PARTIAL\n",
       "GenProp0877                    YES                             PARTIAL\n",
       "GenProp0899                PARTIAL                                  NO\n",
       "GenProp0917                PARTIAL                                  NO\n",
       "GenProp0927                    YES                             PARTIAL\n",
       "GenProp1072                PARTIAL                                  NO\n",
       "GenProp1074                    YES                                  NO\n",
       "GenProp1094                PARTIAL                                  NO"
      ]
     },
     "execution_count": 20,
     "metadata": {},
     "output_type": "execute_result"
    }
   ],
   "source": [
    "differential_leaf_genome_property_assignments"
   ]
  },
  {
   "cell_type": "code",
   "execution_count": 21,
   "metadata": {},
   "outputs": [],
   "source": [
    "differential_property_assignments_not_caused_by_leaves = set(differential_leaf_genome_property_assignments.index.tolist()).isdisjoint({property_id for property_id, step_id in differential_leaf_step_assignments.index.tolist()})"
   ]
  },
  {
   "cell_type": "code",
   "execution_count": 22,
   "metadata": {},
   "outputs": [
    {
     "data": {
      "text/plain": [
       "False"
      ]
     },
     "execution_count": 22,
     "metadata": {},
     "output_type": "execute_result"
    }
   ],
   "source": [
    "differential_property_assignments_not_caused_by_leaves"
   ]
  },
  {
   "cell_type": "code",
   "execution_count": 26,
   "metadata": {},
   "outputs": [
    {
     "name": "stdout",
     "output_type": "stream",
     "text": [
      "Missmatched Properties: 2.9%\n",
      "Missmatched Steps: 1.3%\n",
      "Missmatched Leaf Properties: 1.7%\n",
      "Missmatched Leaf Steps: 0.31%\n",
      "Missmatched Leaf Properties Not Caused By Missmatched Steps: False\n"
     ]
    }
   ],
   "source": [
    "print('Missmatched Properties: {:1.2}%'.format(len(differential_property_assignments)/len(inteproscan_file_result.property_results)*100))\n",
    "print('Missmatched Steps: {:1.2}%'.format(len(differential_step_assignments)/len(inteproscan_file_result.step_results)*100))\n",
    "print('Missmatched Leaf Properties: {:1.2}%'.format(len(differential_leaf_genome_property_assignments)/len(inteproscan_file_result.property_results)*100))\n",
    "print('Missmatched Leaf Steps: {:1.2}%'.format(len(differential_leaf_step_assignments)/len(inteproscan_file_result.step_results)*100))\n",
    "print('Missmatched Leaf Properties Not Caused By Missmatched Steps: {}'.format(differential_property_assignments_not_caused_by_leaves))"
   ]
  },
  {
   "cell_type": "code",
   "execution_count": null,
   "metadata": {},
   "outputs": [],
   "source": []
  }
 ],
 "metadata": {
  "kernelspec": {
   "display_name": "Python 3",
   "language": "python",
   "name": "python3"
  },
  "language_info": {
   "codemirror_mode": {
    "name": "ipython",
    "version": 3
   },
   "file_extension": ".py",
   "mimetype": "text/x-python",
   "name": "python",
   "nbconvert_exporter": "python",
   "pygments_lexer": "ipython3",
   "version": "3.6.5"
  }
 },
 "nbformat": 4,
 "nbformat_minor": 2
}
