{
 "cells": [
  {
   "cell_type": "code",
   "execution_count": 1,
   "metadata": {},
   "outputs": [],
   "source": [
    "from modules.genome_properties_longform_file_parser import parse_genome_property_longform_file\n",
    "from modules.genome_properties_flat_file_parser import parse_genome_property_file\n",
    "from modules.genome_properties_results import GenomePropertiesResults\n",
    "import json"
   ]
  },
  {
   "cell_type": "code",
   "execution_count": 2,
   "metadata": {},
   "outputs": [],
   "source": [
    "with open('testing/test_constants/genomeProperties.txt') as genome_property_file:\n",
    "    properties_tree = parse_genome_property_file(genome_property_file)"
   ]
  },
  {
   "cell_type": "code",
   "execution_count": 3,
   "metadata": {},
   "outputs": [],
   "source": [
    "with open('testing/test_constants/LONGFORM_REPORT__C_chlorochromatii_CaD3.txt') as long_form_one:\n",
    "    with open('testing/test_constants/LONGFORM_REPORT_GENOME_PROPERTIES_C_luteolum_DSM_273.txt') as long_form_two:\n",
    "        long_form_one_assignments = parse_genome_property_longform_file(long_form_one)\n",
    "        long_form_two_assignments = parse_genome_property_longform_file(long_form_two)"
   ]
  },
  {
   "cell_type": "code",
   "execution_count": 4,
   "metadata": {},
   "outputs": [],
   "source": [
    "genome_properties_results = GenomePropertiesResults(properties_tree, long_form_one_assignments, long_form_two_assignments)"
   ]
  },
  {
   "cell_type": "code",
   "execution_count": 5,
   "metadata": {},
   "outputs": [],
   "source": [
    "with open('test_results.json', 'w') as fp:\n",
    "    json.dump(genome_properties_results.to_json(),fp)"
   ]
  },
  {
   "cell_type": "code",
   "execution_count": null,
   "metadata": {},
   "outputs": [],
   "source": []
  }
 ],
 "metadata": {
  "kernelspec": {
   "display_name": "Python 3",
   "language": "python",
   "name": "python3"
  },
  "language_info": {
   "codemirror_mode": {
    "name": "ipython",
    "version": 3
   },
   "file_extension": ".py",
   "mimetype": "text/x-python",
   "name": "python",
   "nbconvert_exporter": "python",
   "pygments_lexer": "ipython3",
   "version": "3.6.5"
  }
 },
 "nbformat": 4,
 "nbformat_minor": 2
}
