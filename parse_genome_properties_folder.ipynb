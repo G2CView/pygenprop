{
 "cells": [
  {
   "cell_type": "code",
   "execution_count": 1,
   "metadata": {
    "collapsed": true
   },
   "outputs": [],
   "source": [
    "class GenomeProperty(object):\n",
    "    def __init__(self, accession_id, name, property_type, threshold=0, \n",
    "                 parent=None, references=[], databases=[], steps=[], \n",
    "                 public=False, description=None, private_notes=None):\n",
    "        self.id = accession_id\n",
    "        self.name = name\n",
    "        self.type = property_type\n",
    "        self.threshold = threshold\n",
    "        self.references = references\n",
    "        self.databases = databases\n",
    "        self.parent = parent\n",
    "        self.steps = steps\n",
    "        self.public = public\n",
    "        self.description = description\n",
    "        self.private_notes = private_notes\n",
    "        \n",
    "    def __repr__(self):\n",
    "        has_references = False\n",
    "        has_steps = False\n",
    "        has_databases = False\n",
    "        \n",
    "        if self.references:\n",
    "            has_references = True\n",
    "        \n",
    "        if self.steps:\n",
    "            has_steps = True\n",
    "            \n",
    "        if self.databases:\n",
    "            has_databases = True\n",
    "            \n",
    "        repr_data = [str(self.id),\n",
    "                     'Type: ' + str(self.type),\n",
    "                     'Name: ' + str(self.name),\n",
    "                     'Thresh: ' + str(self.threshold),\n",
    "                     'References: ' + str(has_references),\n",
    "                     'Databases: ' + str(self.type),\n",
    "                     'Steps: ' + str(has_steps),\n",
    "                     'Parent: ' + str(has_databases),\n",
    "                     'Public: ' + str(self.public)]\n",
    "        \n",
    "        return ', '.join(repr_data)"
   ]
  },
  {
   "cell_type": "code",
   "execution_count": 2,
   "metadata": {
    "collapsed": true
   },
   "outputs": [],
   "source": [
    "class Reference(object):\n",
    "    def __init__(self, number, pubmed_id, title, authors, citation):\n",
    "        self.number = int(number)\n",
    "        self.pubmed_id = pubmed_id\n",
    "        self.title = title\n",
    "        self.authors = authors\n",
    "        self.citation = citation\n",
    "    \n",
    "    def __repr__(self):\n",
    "        repr_data = ['Ref ' + str(self.number),\n",
    "                     'Pubmed ID: ' + str(self.pubmed_id),\n",
    "                     'Title: ' + str(self.title),\n",
    "                     'Authors: ' + str(self.authors),\n",
    "                     'Citation: ' + str(self.citation)]\n",
    "        return ', '.join(repr_data)"
   ]
  },
  {
   "cell_type": "code",
   "execution_count": 3,
   "metadata": {
    "collapsed": true
   },
   "outputs": [],
   "source": [
    "class Database(object):\n",
    "    def __init__(self, title, database_name, records):\n",
    "        self.title = title\n",
    "        self.database_name = database_name\n",
    "        self.records = records\n",
    "        \n",
    "    def __repr__(self):\n",
    "        repr_data = ['Title: ' + str(self.title), \n",
    "                     'DB_Name: ' + str(self.database_name), \n",
    "                     'DB_Records: ' + str(self.records)]\n",
    "        return ', '.join(repr_data)"
   ]
  },
  {
   "cell_type": "code",
   "execution_count": 4,
   "metadata": {
    "collapsed": true
   },
   "outputs": [],
   "source": [
    "class Step(object):\n",
    "    def __init__(self, number, indentifier, name, evidence, gene_ontology_id, required=False, sufficient=False):\n",
    "        self.number = int(number)\n",
    "        self.id = indentifier\n",
    "        self.name = name\n",
    "        self.evidence = evidence\n",
    "        self.gene_ontology_id = gene_ontology_id\n",
    "        self.required = required\n",
    "        self.sufficient = sufficient\n",
    "    \n",
    "    def __repr__(self):\n",
    "        repr_data = ['Step ' + str(self.number),\n",
    "                     'ID: ' + str(self.id),\n",
    "                     'Name: ' + str(self.name),\n",
    "                     'Evidences: ' + str(self.evidence),\n",
    "                     'Gene Ontology IDs: ' + str(self.gene_ontology_id),\n",
    "                     'Required: ' + str(self.required),\n",
    "                     'Sufficient: ' + str(self.sufficient)]\n",
    "        return ', '.join(repr_data)"
   ]
  },
  {
   "cell_type": "code",
   "execution_count": 5,
   "metadata": {
    "collapsed": true
   },
   "outputs": [],
   "source": [
    "def parse_gen_prop_row(row):\n",
    "    columns = row.split('  ')\n",
    "    marker = columns[0].strip()\n",
    "    content = ''.join(columns[1:]).rstrip()\n",
    "    return marker, content"
   ]
  },
  {
   "cell_type": "code",
   "execution_count": 6,
   "metadata": {
    "collapsed": true
   },
   "outputs": [],
   "source": [
    "def collapse_gen_prop_rows(gen_prop_rows):\n",
    "    collapsed_markers = []\n",
    "\n",
    "    trailing_marker_content = []\n",
    "    previous_marker = gen_prop_rows[0][0]\n",
    "    for marker, content in gen_prop_rows:\n",
    "        if marker == previous_marker:\n",
    "            trailing_marker_content.append(content)\n",
    "        else:\n",
    "            collapsed_marker_content = ' '.join(trailing_marker_content)\n",
    "            new_collapsed_marker = (previous_marker, collapsed_marker_content)\n",
    "            \n",
    "            collapsed_markers.append(new_collapsed_marker)\n",
    "            \n",
    "            previous_marker = marker\n",
    "            trailing_marker_content = [content]\n",
    "            \n",
    "    final_collapsed_markers = collapse_step_evidence_and_gene_ontologys(collapsed_markers)\n",
    "    return final_collapsed_markers"
   ]
  },
  {
   "cell_type": "code",
   "execution_count": 7,
   "metadata": {
    "collapsed": true,
    "scrolled": false
   },
   "outputs": [],
   "source": [
    "def collapse_step_evidence_and_gene_ontologys(gen_prop_rows):\n",
    "    current_evidence = []\n",
    "    current_gos = []\n",
    "    final_gen_props = []\n",
    "    for marker, content in gen_prop_rows:\n",
    "        if marker == '--':\n",
    "            if current_evidence:\n",
    "                final_gen_props.append(('EV', ' '.join(current_evidence)))\n",
    "                current_evidence = []\n",
    "            if current_gos:\n",
    "                final_gen_props.append(('TG', ' '.join(current_gos)))\n",
    "                current_gos = []\n",
    "            final_gen_props.append(('--',''))\n",
    "        else:\n",
    "            if marker == 'EV':\n",
    "                current_evidence.append(content)\n",
    "            elif marker == 'TG':\n",
    "                current_gos.append(content)\n",
    "            else:\n",
    "                final_gen_props.append((marker,content))\n",
    "                \n",
    "    return final_gen_props"
   ]
  },
  {
   "cell_type": "code",
   "execution_count": 8,
   "metadata": {
    "collapsed": true
   },
   "outputs": [],
   "source": [
    "def collect_references(gen_prop_rows):\n",
    "    reference_markers = ['RN', 'RM', 'RT', 'RA', 'RL']\n",
    "    \n",
    "    references = []\n",
    "    current_reference = {}\n",
    "    has_references=False\n",
    "    for marker, content in gen_prop_rows:\n",
    "        if marker in reference_markers:\n",
    "            if marker in current_reference:\n",
    "                references.append(Reference(number=current_reference.get('RN'), pubmed_id=current_reference.get('RM'), \n",
    "                                            title=current_reference.get('RT'), authors=current_reference.get('RA'), \n",
    "                                            citation=current_reference.get('RL')))\n",
    "                current_reference = {}\n",
    "                current_reference[marker] = content\n",
    "            else:\n",
    "                if marker == 'RN':\n",
    "                    content = int(content.strip('[]'))\n",
    "\n",
    "                current_reference[marker] = content\n",
    "\n",
    "    references.append(Reference(number=current_reference.get('RN'), pubmed_id=current_reference.get('RM'), \n",
    "                                title=current_reference.get('RT'), authors=current_reference.get('RA'), \n",
    "                                citation=current_reference.get('RL')))\n",
    "    return references"
   ]
  },
  {
   "cell_type": "code",
   "execution_count": 9,
   "metadata": {
    "collapsed": true
   },
   "outputs": [],
   "source": [
    "def parse_genome_property_rows(gen_prop_rows):\n",
    "    core_markers = ['AC', 'DE', 'TP', 'TH', 'PN', 'CC', '**']\n",
    "    gathered_core_markers = {}\n",
    "    unique_markers = {}\n",
    "    \n",
    "    has_references = False\n",
    "    has_databases = False\n",
    "    \n",
    "    for marker, content in gen_prop_rows:\n",
    "        if marker == 'RN':\n",
    "            has_references = True\n",
    "        elif marker == 'DC':\n",
    "            has_databases = True\n",
    "        elif marker in core_markers:\n",
    "            if marker == 'TH':\n",
    "                content = int(content)\n",
    "            gathered_core_markers[marker] = content\n",
    "    \n",
    "    if has_references:\n",
    "        references = collect_references(gen_prop_rows)\n",
    "    else:\n",
    "        references=[]\n",
    "    if has_databases:\n",
    "        databases = collect_databases(gen_prop_rows)\n",
    "    else:\n",
    "        databases = []\n",
    "        \n",
    "    steps = collect_steps(gen_prop_rows)\n",
    "    \n",
    "    new_genome_property = GenomeProperty(accession_id=gathered_core_markers.get('AC'),\n",
    "                                         name=gathered_core_markers.get('DE'),\n",
    "                                         property_type=gathered_core_markers.get('TP'),\n",
    "                                         threshold=gathered_core_markers.get('TH'),\n",
    "                                         parent=gathered_core_markers.get('PN'),\n",
    "                                         description=gathered_core_markers.get('CC'),\n",
    "                                         private_notes=gathered_core_markers.get('**'),\n",
    "                                         references=references,\n",
    "                                         databases=databases,\n",
    "                                         steps=steps)\n",
    "    return new_genome_property"
   ]
  },
  {
   "cell_type": "code",
   "execution_count": 10,
   "metadata": {
    "collapsed": true
   },
   "outputs": [],
   "source": [
    "def collect_steps(gen_prop_rows):\n",
    "    step_markers = ['SN','ID', 'DN', 'RQ','EV','TG']\n",
    "\n",
    "    steps = []\n",
    "    current_step = {}\n",
    "    for marker, content in gen_prop_rows:\n",
    "        if marker in step_markers:\n",
    "            if marker in current_step:\n",
    "                steps.append(Step(number=current_step.get('SN'), indentifier=current_step.get('ID'), \n",
    "                                  name=current_step.get('DN'), evidence=current_step.get('EV'), \n",
    "                                  gene_ontology_id=current_step.get('TG'), required=current_step.get('RQ'), \n",
    "                                  sufficient=current_step.get('SF')))\n",
    "                current_step = {} \n",
    "                current_step[marker] = content\n",
    "            else:\n",
    "                if marker == 'SN':\n",
    "                    content = int(content)\n",
    "                elif marker == 'EV':\n",
    "                    split_content = filter(None, content.split(';'))\n",
    "                    cleaned_content = list(map(lambda evidence: evidence.strip(), split_content))\n",
    "                    if 'sufficient' in cleaned_content:\n",
    "                        current_step['SF'] = True\n",
    "                    else:\n",
    "                        current_step['SF'] = False   \n",
    "                    content = [evidence for evidence in cleaned_content if evidence != 'sufficient']\n",
    "                elif marker == 'RQ':\n",
    "                    if int(content) == 1:\n",
    "                        content = True\n",
    "                    else:\n",
    "                        content = False\n",
    "\n",
    "                current_step[marker] = content\n",
    "\n",
    "    steps.append(Step(number=current_step.get('SN'), indentifier=current_step.get('ID'), \n",
    "                      name=current_step.get('DN'), evidence=current_step.get('EV'), \n",
    "                      gene_ontology_id=current_step.get('TG'), required=current_step.get('RQ'), \n",
    "                      sufficient=current_step.get('SF')))\n",
    "    \n",
    "    return steps"
   ]
  },
  {
   "cell_type": "code",
   "execution_count": 11,
   "metadata": {
    "collapsed": true
   },
   "outputs": [],
   "source": [
    "def collect_databases(gen_prop_rows):\n",
    "    database_markers = ['DC', 'DR']\n",
    "\n",
    "    databases = []\n",
    "    current_database = {}\n",
    "    for marker, content in gen_prop_rows:\n",
    "        if marker in database_markers:\n",
    "            if marker in current_database:\n",
    "                databases.append(Database(title=current_database.get('DC'), \n",
    "                                          database_name=current_database.get('DN'),\n",
    "                                          records=current_database.get('DI')))\n",
    "\n",
    "                current_database = {}\n",
    "                current_database[marker] = content\n",
    "            else:\n",
    "                if marker == 'DR':\n",
    "                    split_content = filter(None, content.split(';'))\n",
    "                    cleaned_content = list(map(lambda evidence: evidence.strip(), split_content))\n",
    "                    database_name = cleaned_content[0]\n",
    "                    database_records = cleaned_content[1:]\n",
    "                    current_database['DN'] = database_name\n",
    "                    current_database['DI'] = database_records\n",
    "\n",
    "                current_database[marker] = content\n",
    "\n",
    "    databases.append(Database(title=current_database.get('DC'), \n",
    "                              database_name=current_database.get('DN'),\n",
    "                              records=current_database.get('DI')))\n",
    "    return databases"
   ]
  },
  {
   "cell_type": "code",
   "execution_count": 12,
   "metadata": {
    "collapsed": true
   },
   "outputs": [],
   "source": [
    "def parse_gen_prop_file(gen_prop_flat_path):\n",
    "    gen_props = []\n",
    "    current_gen_prop_rows = []\n",
    "    with open(gen_prop_flat_path, 'r') as gen_prop_file:\n",
    "        for line in gen_prop_file:\n",
    "            if not line.strip() == '//':\n",
    "                current_gen_prop_rows.append(parse_gen_prop_row(line))\n",
    "            else:\n",
    "                gen_props.append(parse_genome_property_rows(collapse_gen_prop_rows(current_gen_prop_rows)))\n",
    "                current_gen_prop_rows = []\n",
    "    \n",
    "    return gen_props"
   ]
  },
  {
   "cell_type": "code",
   "execution_count": 13,
   "metadata": {
    "collapsed": true
   },
   "outputs": [],
   "source": [
    "import os"
   ]
  },
  {
   "cell_type": "code",
   "execution_count": 14,
   "metadata": {},
   "outputs": [],
   "source": [
    "global_gen_prop_dir = './data'\n",
    "individual_gen_prop_dirs = [directory for directory in os.listdir(global_gen_prop_dir) if 'GenProp' in directory]"
   ]
  },
  {
   "cell_type": "code",
   "execution_count": 18,
   "metadata": {},
   "outputs": [
    {
     "ename": "ValueError",
     "evalue": "invalid literal for int() with base 10: '[2]'",
     "output_type": "error",
     "traceback": [
      "\u001b[0;31m---------------------------------------------------------------------------\u001b[0m",
      "\u001b[0;31mValueError\u001b[0m                                Traceback (most recent call last)",
      "\u001b[0;32m<ipython-input-18-3db4f9faef0c>\u001b[0m in \u001b[0;36m<module>\u001b[0;34m()\u001b[0m\n\u001b[1;32m      4\u001b[0m     \u001b[0mdescription_file_path\u001b[0m \u001b[0;34m=\u001b[0m \u001b[0mos\u001b[0m\u001b[0;34m.\u001b[0m\u001b[0mpath\u001b[0m\u001b[0;34m.\u001b[0m\u001b[0mjoin\u001b[0m\u001b[0;34m(\u001b[0m\u001b[0mglobal_gen_prop_dir\u001b[0m\u001b[0;34m,\u001b[0m \u001b[0mgen_prop_id\u001b[0m\u001b[0;34m,\u001b[0m \u001b[0;34m'DESC'\u001b[0m\u001b[0;34m)\u001b[0m\u001b[0;34m\u001b[0m\u001b[0m\n\u001b[1;32m      5\u001b[0m     \u001b[0mstatus_file_path\u001b[0m \u001b[0;34m=\u001b[0m \u001b[0mos\u001b[0m\u001b[0;34m.\u001b[0m\u001b[0mpath\u001b[0m\u001b[0;34m.\u001b[0m\u001b[0mjoin\u001b[0m\u001b[0;34m(\u001b[0m\u001b[0mglobal_gen_prop_dir\u001b[0m\u001b[0;34m,\u001b[0m \u001b[0mgen_prop_id\u001b[0m\u001b[0;34m,\u001b[0m \u001b[0;34m'status'\u001b[0m\u001b[0;34m)\u001b[0m\u001b[0;34m\u001b[0m\u001b[0m\n\u001b[0;32m----> 6\u001b[0;31m     \u001b[0mgen_props\u001b[0m\u001b[0;34m[\u001b[0m\u001b[0mgen_prop_id\u001b[0m\u001b[0;34m]\u001b[0m \u001b[0;34m=\u001b[0m \u001b[0mparse_gen_prop_file\u001b[0m\u001b[0;34m(\u001b[0m\u001b[0mdescription_file_path\u001b[0m\u001b[0;34m)\u001b[0m\u001b[0;34m[\u001b[0m\u001b[0;36m0\u001b[0m\u001b[0;34m]\u001b[0m\u001b[0;34m\u001b[0m\u001b[0m\n\u001b[0m",
      "\u001b[0;32m<ipython-input-12-f69b913421c6>\u001b[0m in \u001b[0;36mparse_gen_prop_file\u001b[0;34m(gen_prop_flat_path)\u001b[0m\n\u001b[1;32m      7\u001b[0m                 \u001b[0mcurrent_gen_prop_rows\u001b[0m\u001b[0;34m.\u001b[0m\u001b[0mappend\u001b[0m\u001b[0;34m(\u001b[0m\u001b[0mparse_gen_prop_row\u001b[0m\u001b[0;34m(\u001b[0m\u001b[0mline\u001b[0m\u001b[0;34m)\u001b[0m\u001b[0;34m)\u001b[0m\u001b[0;34m\u001b[0m\u001b[0m\n\u001b[1;32m      8\u001b[0m             \u001b[0;32melse\u001b[0m\u001b[0;34m:\u001b[0m\u001b[0;34m\u001b[0m\u001b[0m\n\u001b[0;32m----> 9\u001b[0;31m                 \u001b[0mgen_props\u001b[0m\u001b[0;34m.\u001b[0m\u001b[0mappend\u001b[0m\u001b[0;34m(\u001b[0m\u001b[0mparse_genome_property_rows\u001b[0m\u001b[0;34m(\u001b[0m\u001b[0mcollapse_gen_prop_rows\u001b[0m\u001b[0;34m(\u001b[0m\u001b[0mcurrent_gen_prop_rows\u001b[0m\u001b[0;34m)\u001b[0m\u001b[0;34m)\u001b[0m\u001b[0;34m)\u001b[0m\u001b[0;34m\u001b[0m\u001b[0m\n\u001b[0m\u001b[1;32m     10\u001b[0m                 \u001b[0mcurrent_gen_prop_rows\u001b[0m \u001b[0;34m=\u001b[0m \u001b[0;34m[\u001b[0m\u001b[0;34m]\u001b[0m\u001b[0;34m\u001b[0m\u001b[0m\n\u001b[1;32m     11\u001b[0m \u001b[0;34m\u001b[0m\u001b[0m\n",
      "\u001b[0;32m<ipython-input-9-a4c8a6b0d707>\u001b[0m in \u001b[0;36mparse_genome_property_rows\u001b[0;34m(gen_prop_rows)\u001b[0m\n\u001b[1;32m     18\u001b[0m \u001b[0;34m\u001b[0m\u001b[0m\n\u001b[1;32m     19\u001b[0m     \u001b[0;32mif\u001b[0m \u001b[0mhas_references\u001b[0m\u001b[0;34m:\u001b[0m\u001b[0;34m\u001b[0m\u001b[0m\n\u001b[0;32m---> 20\u001b[0;31m         \u001b[0mreferences\u001b[0m \u001b[0;34m=\u001b[0m \u001b[0mcollect_references\u001b[0m\u001b[0;34m(\u001b[0m\u001b[0mgen_prop_rows\u001b[0m\u001b[0;34m)\u001b[0m\u001b[0;34m\u001b[0m\u001b[0m\n\u001b[0m\u001b[1;32m     21\u001b[0m     \u001b[0;32melse\u001b[0m\u001b[0;34m:\u001b[0m\u001b[0;34m\u001b[0m\u001b[0m\n\u001b[1;32m     22\u001b[0m         \u001b[0mreferences\u001b[0m\u001b[0;34m=\u001b[0m\u001b[0;34m[\u001b[0m\u001b[0;34m]\u001b[0m\u001b[0;34m\u001b[0m\u001b[0m\n",
      "\u001b[0;32m<ipython-input-8-5af4f4bf3686>\u001b[0m in \u001b[0;36mcollect_references\u001b[0;34m(gen_prop_rows)\u001b[0m\n\u001b[1;32m     21\u001b[0m     references.append(Reference(number=current_reference.get('RN'), pubmed_id=current_reference.get('RM'), \n\u001b[1;32m     22\u001b[0m                                 \u001b[0mtitle\u001b[0m\u001b[0;34m=\u001b[0m\u001b[0mcurrent_reference\u001b[0m\u001b[0;34m.\u001b[0m\u001b[0mget\u001b[0m\u001b[0;34m(\u001b[0m\u001b[0;34m'RT'\u001b[0m\u001b[0;34m)\u001b[0m\u001b[0;34m,\u001b[0m \u001b[0mauthors\u001b[0m\u001b[0;34m=\u001b[0m\u001b[0mcurrent_reference\u001b[0m\u001b[0;34m.\u001b[0m\u001b[0mget\u001b[0m\u001b[0;34m(\u001b[0m\u001b[0;34m'RA'\u001b[0m\u001b[0;34m)\u001b[0m\u001b[0;34m,\u001b[0m\u001b[0;34m\u001b[0m\u001b[0m\n\u001b[0;32m---> 23\u001b[0;31m                                 citation=current_reference.get('RL')))\n\u001b[0m\u001b[1;32m     24\u001b[0m     \u001b[0;32mreturn\u001b[0m \u001b[0mreferences\u001b[0m\u001b[0;34m\u001b[0m\u001b[0m\n",
      "\u001b[0;32m<ipython-input-2-38be00ca0e1b>\u001b[0m in \u001b[0;36m__init__\u001b[0;34m(self, number, pubmed_id, title, authors, citation)\u001b[0m\n\u001b[1;32m      1\u001b[0m \u001b[0;32mclass\u001b[0m \u001b[0mReference\u001b[0m\u001b[0;34m(\u001b[0m\u001b[0mobject\u001b[0m\u001b[0;34m)\u001b[0m\u001b[0;34m:\u001b[0m\u001b[0;34m\u001b[0m\u001b[0m\n\u001b[1;32m      2\u001b[0m     \u001b[0;32mdef\u001b[0m \u001b[0m__init__\u001b[0m\u001b[0;34m(\u001b[0m\u001b[0mself\u001b[0m\u001b[0;34m,\u001b[0m \u001b[0mnumber\u001b[0m\u001b[0;34m,\u001b[0m \u001b[0mpubmed_id\u001b[0m\u001b[0;34m,\u001b[0m \u001b[0mtitle\u001b[0m\u001b[0;34m,\u001b[0m \u001b[0mauthors\u001b[0m\u001b[0;34m,\u001b[0m \u001b[0mcitation\u001b[0m\u001b[0;34m)\u001b[0m\u001b[0;34m:\u001b[0m\u001b[0;34m\u001b[0m\u001b[0m\n\u001b[0;32m----> 3\u001b[0;31m         \u001b[0mself\u001b[0m\u001b[0;34m.\u001b[0m\u001b[0mnumber\u001b[0m \u001b[0;34m=\u001b[0m \u001b[0mint\u001b[0m\u001b[0;34m(\u001b[0m\u001b[0mnumber\u001b[0m\u001b[0;34m)\u001b[0m\u001b[0;34m\u001b[0m\u001b[0m\n\u001b[0m\u001b[1;32m      4\u001b[0m         \u001b[0mself\u001b[0m\u001b[0;34m.\u001b[0m\u001b[0mpubmed_id\u001b[0m \u001b[0;34m=\u001b[0m \u001b[0mpubmed_id\u001b[0m\u001b[0;34m\u001b[0m\u001b[0m\n\u001b[1;32m      5\u001b[0m         \u001b[0mself\u001b[0m\u001b[0;34m.\u001b[0m\u001b[0mtitle\u001b[0m \u001b[0;34m=\u001b[0m \u001b[0mtitle\u001b[0m\u001b[0;34m\u001b[0m\u001b[0m\n",
      "\u001b[0;31mValueError\u001b[0m: invalid literal for int() with base 10: '[2]'"
     ]
    }
   ],
   "source": [
    "gen_props = {}\n",
    "for directory_name in individual_gen_prop_dirs:\n",
    "    gen_prop_id = directory_name.strip()\n",
    "    description_file_path = os.path.join(global_gen_prop_dir, gen_prop_id, 'DESC')\n",
    "    status_file_path = os.path.join(global_gen_prop_dir, gen_prop_id, 'status')\n",
    "    gen_props[gen_prop_id] = parse_gen_prop_file(description_file_path)[0]"
   ]
  },
  {
   "cell_type": "code",
   "execution_count": null,
   "metadata": {
    "collapsed": true
   },
   "outputs": [],
   "source": []
  }
 ],
 "metadata": {
  "kernelspec": {
   "display_name": "Python 3",
   "language": "python",
   "name": "python3"
  },
  "language_info": {
   "codemirror_mode": {
    "name": "ipython",
    "version": 3
   },
   "file_extension": ".py",
   "mimetype": "text/x-python",
   "name": "python",
   "nbconvert_exporter": "python",
   "pygments_lexer": "ipython3",
   "version": "3.6.1"
  }
 },
 "nbformat": 4,
 "nbformat_minor": 2
}
