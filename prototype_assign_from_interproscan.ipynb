{
 "cells": [
  {
   "cell_type": "code",
   "execution_count": 1,
   "metadata": {},
   "outputs": [],
   "source": [
    "import csv\n",
    "import pandas as pd\n",
    "from pygenprop.flat_file_parser import parse_genome_property_file\n",
    "from pygenprop.results import assign_result_from_child_assignment_results, assign_property_result_from_required_steps, assign_results_to_property_and_children,GenomePropertiesResults\n",
    "from pygenprop.assignment_file_parser import parse_genome_property_longform_file"
   ]
  },
  {
   "cell_type": "code",
   "execution_count": 2,
   "metadata": {},
   "outputs": [],
   "source": [
    "interpro_ids = []\n",
    "with open('/Users/lee/Google_Drive/Neufeld_Lab/Projects/ELA_GSB_test_data_for_Lee/Jackson_InterProScan_GenProp_Results/Updated_Fall_2018/interproscan_results/C_chlorochromatii_CaD3.tsv') as inteproscan_file:\n",
    "    tsv_reader = csv.reader(inteproscan_file, delimiter='\\t')\n",
    "    \n",
    "    for row in tsv_reader:\n",
    "        hit_interpro_member_id = row[4]\n",
    "        interpro_ids.append(hit_interpro_member_id)"
   ]
  },
  {
   "cell_type": "code",
   "execution_count": 3,
   "metadata": {},
   "outputs": [],
   "source": [
    "unique_interpro_ids = set(interpro_ids)"
   ]
  },
  {
   "cell_type": "code",
   "execution_count": 4,
   "metadata": {},
   "outputs": [],
   "source": [
    "with open('/Users/lee/Dropbox/RandD/Repositories/genome-properties/flatfiles/genomeProperties.txt') as genome_properties_file:\n",
    "    genprop_tree = parse_genome_property_file(genome_properties_file)"
   ]
  },
  {
   "cell_type": "code",
   "execution_count": 5,
   "metadata": {},
   "outputs": [],
   "source": [
    "step_table = {}\n",
    "for leaf in genprop_tree:\n",
    "    for step in leaf.steps:\n",
    "        step_functional_element_assignments = []\n",
    "        for functional_element in step.functional_elements:\n",
    "            functional_element_evidence_assignments = []\n",
    "            if functional_element.evidence:\n",
    "                for evidence in functional_element.evidence:\n",
    "                    if not evidence.has_genome_property:\n",
    "                        if unique_interpro_ids.isdisjoint(set(evidence.evidence_identifiers)):\n",
    "                            evidence_result = 'NO'\n",
    "                        else:\n",
    "                            evidence_result = 'YES'\n",
    "                            \n",
    "                        if evidence.sufficient:\n",
    "                            if evidence_result == 'YES':\n",
    "                                functional_element_evidence_assignments = ['YES']\n",
    "                                break\n",
    "                            else:\n",
    "                                functional_element_evidence_assignments.append(evidence_result)\n",
    "                        else:\n",
    "                            functional_element_evidence_assignments.append(evidence_result)   \n",
    "                    else:\n",
    "                        break\n",
    "            else:\n",
    "                functional_element_evidence_assignments.append('NO')\n",
    "                       \n",
    "            if 'YES' in functional_element_evidence_assignments:\n",
    "                step_functional_element_assignments.append('YES') \n",
    "        \n",
    "        if 'YES' in step_functional_element_assignments:\n",
    "            step_result = 'YES'\n",
    "\n",
    "            current_genome_property_step_results = step_table.get(leaf.id)\n",
    "\n",
    "            if current_genome_property_step_results:\n",
    "                step_table[leaf.id][step.number] = step_result\n",
    "            else:\n",
    "                step_table[leaf.id] = {step.number: step_result} "
   ]
  },
  {
   "cell_type": "code",
   "execution_count": 6,
   "metadata": {},
   "outputs": [
    {
     "data": {
      "text/plain": [
       "'PARTIAL'"
      ]
     },
     "execution_count": 6,
     "metadata": {},
     "output_type": "execute_result"
    }
   ],
   "source": [
    "property_results={}\n",
    "assign_results_to_property_and_children(property_results, step_table, genprop_tree.root)"
   ]
  },
  {
   "cell_type": "code",
   "execution_count": 7,
   "metadata": {},
   "outputs": [],
   "source": [
    "property_result_dict = {}\n",
    "for property_id, assignment in property_results.items():\n",
    "    supported_steps = [step_number for step_number, step_result in step_table[property_id].items() if step_result in ['YES', 'PARTIAL']]\n",
    "    property_result_dict[property_id] = {'result': assignment,\n",
    "                                         'supported_steps': supported_steps}\n",
    "property_result_dict['sample_name'] = 'C_chlorochromatii_CaD3_InterProScanTSV'"
   ]
  },
  {
   "cell_type": "code",
   "execution_count": 8,
   "metadata": {},
   "outputs": [],
   "source": [
    "interpro_file_results = GenomePropertiesResults(property_result_dict, genome_properties_tree=genprop_tree)"
   ]
  },
  {
   "cell_type": "code",
   "execution_count": 9,
   "metadata": {},
   "outputs": [],
   "source": [
    "with open('/Users/lee/Google_Drive/Neufeld_Lab/Projects/ELA_GSB_test_data_for_Lee/Jackson_InterProScan_GenProp_Results/Updated_Fall_2018/genome_properties/C_chlorochromatii_CaD3') as assignment_file:\n",
    "    file_assignment_results = parse_genome_property_longform_file(assignment_file)\n",
    "    genome_properties_file_result = GenomePropertiesResults(file_assignment_results, genome_properties_tree=genprop_tree)"
   ]
  },
  {
   "cell_type": "code",
   "execution_count": 10,
   "metadata": {},
   "outputs": [],
   "source": [
    "property_comparison_result = pd.concat([interpro_file_results.property_results, genome_properties_file_result.property_results], axis=1, sort=False)"
   ]
  },
  {
   "cell_type": "code",
   "execution_count": 11,
   "metadata": {},
   "outputs": [],
   "source": [
    "step_comparison_result = pd.concat([interpro_file_results.step_results, genome_properties_file_result.step_results], axis=1, sort=False)"
   ]
  },
  {
   "cell_type": "code",
   "execution_count": 12,
   "metadata": {},
   "outputs": [],
   "source": [
    "property_transposed = property_comparison_result.transpose()"
   ]
  },
  {
   "cell_type": "code",
   "execution_count": 13,
   "metadata": {},
   "outputs": [
    {
     "data": {
      "text/html": [
       "<div>\n",
       "<style scoped>\n",
       "    .dataframe tbody tr th:only-of-type {\n",
       "        vertical-align: middle;\n",
       "    }\n",
       "\n",
       "    .dataframe tbody tr th {\n",
       "        vertical-align: top;\n",
       "    }\n",
       "\n",
       "    .dataframe thead th {\n",
       "        text-align: right;\n",
       "    }\n",
       "</style>\n",
       "<table border=\"1\" class=\"dataframe\">\n",
       "  <thead>\n",
       "    <tr style=\"text-align: right;\">\n",
       "      <th></th>\n",
       "      <th>C_chlorochromatii_CaD3_InterProScanTSV</th>\n",
       "      <th>C_chlorochromatii_CaD3</th>\n",
       "    </tr>\n",
       "  </thead>\n",
       "  <tbody>\n",
       "    <tr>\n",
       "      <th>GenProp0305</th>\n",
       "      <td>NO</td>\n",
       "      <td>YES</td>\n",
       "    </tr>\n",
       "    <tr>\n",
       "      <th>GenProp0617</th>\n",
       "      <td>NO</td>\n",
       "      <td>PARTIAL</td>\n",
       "    </tr>\n",
       "    <tr>\n",
       "      <th>GenProp0616</th>\n",
       "      <td>NO</td>\n",
       "      <td>YES</td>\n",
       "    </tr>\n",
       "    <tr>\n",
       "      <th>GenProp0218</th>\n",
       "      <td>NO</td>\n",
       "      <td>PARTIAL</td>\n",
       "    </tr>\n",
       "    <tr>\n",
       "      <th>GenProp0645</th>\n",
       "      <td>NO</td>\n",
       "      <td>YES</td>\n",
       "    </tr>\n",
       "    <tr>\n",
       "      <th>GenProp0630</th>\n",
       "      <td>NO</td>\n",
       "      <td>PARTIAL</td>\n",
       "    </tr>\n",
       "    <tr>\n",
       "      <th>GenProp0033</th>\n",
       "      <td>PARTIAL</td>\n",
       "      <td>YES</td>\n",
       "    </tr>\n",
       "  </tbody>\n",
       "</table>\n",
       "</div>"
      ],
      "text/plain": [
       "            C_chlorochromatii_CaD3_InterProScanTSV C_chlorochromatii_CaD3\n",
       "GenProp0305                                     NO                    YES\n",
       "GenProp0617                                     NO                PARTIAL\n",
       "GenProp0616                                     NO                    YES\n",
       "GenProp0218                                     NO                PARTIAL\n",
       "GenProp0645                                     NO                    YES\n",
       "GenProp0630                                     NO                PARTIAL\n",
       "GenProp0033                                PARTIAL                    YES"
      ]
     },
     "execution_count": 13,
     "metadata": {},
     "output_type": "execute_result"
    }
   ],
   "source": [
    "property_transposed[[col for col in property_transposed if not property_transposed[col].nunique()==1]].transpose()"
   ]
  },
  {
   "cell_type": "code",
   "execution_count": 14,
   "metadata": {},
   "outputs": [],
   "source": [
    "step_transposed = step_comparison_result.transpose()"
   ]
  },
  {
   "cell_type": "code",
   "execution_count": 15,
   "metadata": {},
   "outputs": [],
   "source": [
    "filtered_steps = step_transposed[[col for col in step_transposed if not step_transposed[col].nunique()==1]].transpose()"
   ]
  },
  {
   "cell_type": "code",
   "execution_count": 16,
   "metadata": {},
   "outputs": [
    {
     "data": {
      "text/html": [
       "<div>\n",
       "<style scoped>\n",
       "    .dataframe tbody tr th:only-of-type {\n",
       "        vertical-align: middle;\n",
       "    }\n",
       "\n",
       "    .dataframe tbody tr th {\n",
       "        vertical-align: top;\n",
       "    }\n",
       "\n",
       "    .dataframe thead th {\n",
       "        text-align: right;\n",
       "    }\n",
       "</style>\n",
       "<table border=\"1\" class=\"dataframe\">\n",
       "  <thead>\n",
       "    <tr style=\"text-align: right;\">\n",
       "      <th></th>\n",
       "      <th></th>\n",
       "      <th>C_chlorochromatii_CaD3_InterProScanTSV</th>\n",
       "      <th>C_chlorochromatii_CaD3</th>\n",
       "    </tr>\n",
       "    <tr>\n",
       "      <th>Genome_Property_ID</th>\n",
       "      <th>Step_Number</th>\n",
       "      <th></th>\n",
       "      <th></th>\n",
       "    </tr>\n",
       "  </thead>\n",
       "  <tbody>\n",
       "    <tr>\n",
       "      <th>GenProp0033</th>\n",
       "      <th>4</th>\n",
       "      <td>NO</td>\n",
       "      <td>YES</td>\n",
       "    </tr>\n",
       "    <tr>\n",
       "      <th>GenProp0063</th>\n",
       "      <th>15</th>\n",
       "      <td>NO</td>\n",
       "      <td>YES</td>\n",
       "    </tr>\n",
       "    <tr>\n",
       "      <th>GenProp0126</th>\n",
       "      <th>15</th>\n",
       "      <td>NO</td>\n",
       "      <td>YES</td>\n",
       "    </tr>\n",
       "    <tr>\n",
       "      <th>GenProp0305</th>\n",
       "      <th>1</th>\n",
       "      <td>NO</td>\n",
       "      <td>YES</td>\n",
       "    </tr>\n",
       "    <tr>\n",
       "      <th>GenProp0616</th>\n",
       "      <th>1</th>\n",
       "      <td>NO</td>\n",
       "      <td>YES</td>\n",
       "    </tr>\n",
       "    <tr>\n",
       "      <th>GenProp0645</th>\n",
       "      <th>1</th>\n",
       "      <td>NO</td>\n",
       "      <td>YES</td>\n",
       "    </tr>\n",
       "  </tbody>\n",
       "</table>\n",
       "</div>"
      ],
      "text/plain": [
       "                               C_chlorochromatii_CaD3_InterProScanTSV  \\\n",
       "Genome_Property_ID Step_Number                                          \n",
       "GenProp0033        4                                               NO   \n",
       "GenProp0063        15                                              NO   \n",
       "GenProp0126        15                                              NO   \n",
       "GenProp0305        1                                               NO   \n",
       "GenProp0616        1                                               NO   \n",
       "GenProp0645        1                                               NO   \n",
       "\n",
       "                               C_chlorochromatii_CaD3  \n",
       "Genome_Property_ID Step_Number                         \n",
       "GenProp0033        4                              YES  \n",
       "GenProp0063        15                             YES  \n",
       "GenProp0126        15                             YES  \n",
       "GenProp0305        1                              YES  \n",
       "GenProp0616        1                              YES  \n",
       "GenProp0645        1                              YES  "
      ]
     },
     "execution_count": 16,
     "metadata": {},
     "output_type": "execute_result"
    }
   ],
   "source": [
    "filtered_steps"
   ]
  },
  {
   "cell_type": "code",
   "execution_count": 17,
   "metadata": {},
   "outputs": [
    {
     "data": {
      "text/plain": [
       "GenProp0033, Type: METAPATH, Name: TCA cycle, Thresh: 5, References: False, Databases: True, Steps: True, Parents: True, Children: True, Public: False"
      ]
     },
     "execution_count": 17,
     "metadata": {},
     "output_type": "execute_result"
    }
   ],
   "source": [
    "genprop_tree['GenProp0033']"
   ]
  },
  {
   "cell_type": "code",
   "execution_count": null,
   "metadata": {},
   "outputs": [],
   "source": []
  }
 ],
 "metadata": {
  "kernelspec": {
   "display_name": "Python 3",
   "language": "python",
   "name": "python3"
  },
  "language_info": {
   "codemirror_mode": {
    "name": "ipython",
    "version": 3
   },
   "file_extension": ".py",
   "mimetype": "text/x-python",
   "name": "python",
   "nbconvert_exporter": "python",
   "pygments_lexer": "ipython3",
   "version": "3.6.5"
  }
 },
 "nbformat": 4,
 "nbformat_minor": 2
}
